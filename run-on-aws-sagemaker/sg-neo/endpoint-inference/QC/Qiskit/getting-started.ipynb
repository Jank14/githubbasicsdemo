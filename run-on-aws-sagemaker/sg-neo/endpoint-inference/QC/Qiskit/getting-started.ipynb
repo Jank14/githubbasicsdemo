{
 "cells": [
  {
   "cell_type": "code",
   "execution_count": 1,
   "id": "03600fe7",
   "metadata": {
    "slideshow": {
     "slide_type": "slide"
    }
   },
   "outputs": [
    {
     "data": {
      "text/html": [
       "<h3>Version Information</h3><table><tr><th>Qiskit Software</th><th>Version</th></tr><tr><td><code>qiskit-terra</code></td><td>0.20.1</td></tr><tr><td><code>qiskit-aer</code></td><td>0.10.4</td></tr><tr><td><code>qiskit-ignis</code></td><td>0.7.0</td></tr><tr><td><code>qiskit-ibmq-provider</code></td><td>0.19.1</td></tr><tr><td><code>qiskit</code></td><td>0.36.1</td></tr><tr><th>System information</th></tr><tr><td>Python version</td><td>3.8.13</td></tr><tr><td>Python compiler</td><td>Clang 12.0.1 </td></tr><tr><td>Python build</td><td>default, Mar 25 2022 06:04:14</td></tr><tr><td>OS</td><td>Darwin</td></tr><tr><td>CPUs</td><td>8</td></tr><tr><td>Memory (Gb)</td><td>8.0</td></tr><tr><td colspan='2'>Sun Apr 24 15:04:23 2022 IST</td></tr></table>"
      ],
      "text/plain": [
       "<IPython.core.display.HTML object>"
      ]
     },
     "metadata": {},
     "output_type": "display_data"
    }
   ],
   "source": [
    "import qiskit.tools.jupyter\n",
    "%qiskit_version_table"
   ]
  },
  {
   "cell_type": "code",
   "execution_count": 3,
   "id": "8ea40ac6",
   "metadata": {
    "slideshow": {
     "slide_type": "slide"
    }
   },
   "outputs": [],
   "source": [
    "from qiskit import IBMQ, QuantumCircuit, transpile\n",
    "from qiskit.tools import job_monitor\n",
    "from qiskit.visualization import plot_histogram, plot_gate_map"
   ]
  },
  {
   "cell_type": "code",
   "execution_count": 4,
   "id": "aaf67d5c",
   "metadata": {
    "slideshow": {
     "slide_type": "slide"
    }
   },
   "outputs": [],
   "source": [
    "# Loading your IBM Quantum account(s)\n",
    "#IBMQ.save_account('dbb7563df15a87590b3bea773bc753eb48931947f7d06ba2fd77a1502cf76afe19bb1120b542d18ccb8a172d7c4fa1fea0dbf62e724382335c962c37066dda8e')"
   ]
  },
  {
   "cell_type": "code",
   "execution_count": 5,
   "id": "d4154359",
   "metadata": {},
   "outputs": [],
   "source": [
    "IBMQ.load_account()\n",
    "provider = IBMQ.get_provider(hub='ibm-q', group='open', project='main')\n",
    "backend = provider.get_backend('ibmq_santiago')"
   ]
  },
  {
   "cell_type": "code",
   "execution_count": 6,
   "id": "9b885b33",
   "metadata": {
    "slideshow": {
     "slide_type": "slide"
    }
   },
   "outputs": [
    {
     "data": {
      "image/png": "[encoded data removed]",
      "text/plain": [
       "<Figure size 417.879x204.68 with 1 Axes>"
      ]
     },
     "execution_count": 6,
     "metadata": {},
     "output_type": "execute_result"
    }
   ],
   "source": [
    "qc = QuantumCircuit(2)\n",
    "qc.h(0)\n",
    "qc.cx(0, 1)\n",
    "qc.measure_all()\n",
    "qc.draw(output='mpl')"
   ]
  },
  {
   "cell_type": "code",
   "execution_count": 7,
   "id": "bcf0dbda",
   "metadata": {
    "slideshow": {
     "slide_type": "slide"
    }
   },
   "outputs": [
    {
     "data": {
      "application/vnd.jupyter.widget-view+json": {
       "model_id": "4869889fed85441a9f6bdddb2bd9e4de",
       "version_major": 2,
       "version_minor": 0
      },
      "text/plain": [
       "Accordion(children=(VBox(layout=Layout(max_width='710px', min_width='710px')),), layout=Layout(max_height='500…"
      ]
     },
     "metadata": {},
     "output_type": "display_data"
    },
    {
     "data": {
      "application/javascript": [
       "\n",
       "        const isLab = window['Jupyter'] === undefined;\n",
       "        const notebook = document.querySelector( isLab ? 'div.jp-Notebook' : '#site');\n",
       "        const jobWidget = document.querySelector('div.job_widget');\n",
       "        notebook.prepend(jobWidget);\n",
       "        jobWidget.style.zIndex = '999';\n",
       "        jobWidget.style.position = isLab ? 'sticky' : 'fixed';\n",
       "        jobWidget.style.boxShadow = '5px 5px 5px -3px black';\n",
       "        jobWidget.style.opacity = '0.95';\n",
       "        if (isLab) {\n",
       "            jobWidget.style.top = '0';\n",
       "            jobWidget.style.left = '0';\n",
       "        }\n",
       "        "
      ],
      "text/plain": [
       "<IPython.core.display.Javascript object>"
      ]
     },
     "metadata": {},
     "output_type": "display_data"
    }
   ],
   "source": [
    "import qiskit.tools.jupyter\n",
    "%qiskit_job_watcher "
   ]
  },
  {
   "cell_type": "code",
   "execution_count": 9,
   "id": "9fefab72",
   "metadata": {
    "slideshow": {
     "slide_type": "fragment"
    }
   },
   "outputs": [],
   "source": [
    "# run job on real hardware\n",
    "job = backend.run(transpile(qc, backend=backend), shots=1024)"
   ]
  },
  {
   "cell_type": "code",
   "execution_count": 13,
   "id": "d86a0aa0",
   "metadata": {
    "slideshow": {
     "slide_type": "slide"
    }
   },
   "outputs": [
    {
     "data": {
      "image/png": "[encoded data removed]",
      "text/plain": [
       "<Figure size 504x360 with 1 Axes>"
      ]
     },
     "execution_count": 13,
     "metadata": {},
     "output_type": "execute_result"
    }
   ],
   "source": [
    "import matplotlib.pyplot as plt\n",
    "plt.style.use('dark_background')\n",
    "plot_histogram(job.result().get_counts())"
   ]
  },
  {
   "cell_type": "code",
   "execution_count": 12,
   "id": "547979ae",
   "metadata": {
    "slideshow": {
     "slide_type": "fragment"
    }
   },
   "outputs": [],
   "source": [
    "# or retrieve previously-run job\n",
    "job = backend.retrieve_job('62651a98edd5c63cf037169d') # your job id here"
   ]
  },
  {
   "cell_type": "code",
   "execution_count": null,
   "id": "c925f8de",
   "metadata": {},
   "outputs": [],
   "source": []
  }
 ],
 "metadata": {
  "celltoolbar": "Slideshow",
  "kernelspec": {
   "display_name": "Python 3",
   "language": "python",
   "name": "python3"
  },
  "language_info": {
   "codemirror_mode": {
    "name": "ipython",
    "version": 3
   },
   "file_extension": ".py",
   "mimetype": "text/x-python",
   "name": "python",
   "nbconvert_exporter": "python",
   "pygments_lexer": "ipython3",
   "version": "3.8.13"
  },
  "toc": {
   "base_numbering": 1,
   "nav_menu": {},
   "number_sections": true,
   "sideBar": true,
   "skip_h1_title": false,
   "title_cell": "Table of Contents",
   "title_sidebar": "Contents",
   "toc_cell": false,
   "toc_position": {},
   "toc_section_display": true,
   "toc_window_display": false
  },
  "widgets": {
   "application/vnd.jupyter.widget-state+json": {
    "state": {
     "00fbd5d99f6f423ea55b1293b80b8123": {
      "model_module": "@jupyter-widgets/controls",
      "model_module_version": "1.5.0",
      "model_name": "HBoxModel",
      "state": {
       "children": [
        "IPY_MODEL_727492928f8b4cbc9defdd2614c4cf99",
        "IPY_MODEL_fe398c48e171401f8ccff0b76c27fcb5",
        "IPY_MODEL_84d0519a72c143dbbd7ab66068811cf3",
        "IPY_MODEL_af205484c8804a83bc143a37f9c2cb13",
        "IPY_MODEL_a2da27235a5e49f6b4011a1a5a3a4022"
       ],
       "layout": "IPY_MODEL_0b41b5bc49934bbd90f06acdd2ad4493"
      }
     },
     "099fefe3464c434c947579eebfb87ff2": {
      "model_module": "@jupyter-widgets/base",
      "model_module_version": "1.2.0",
      "model_name": "LayoutModel",
      "state": {
       "width": "145px"
      }
     },
     "0b41b5bc49934bbd90f06acdd2ad4493": {
      "model_module": "@jupyter-widgets/base",
      "model_module_version": "1.2.0",
      "model_name": "LayoutModel",
      "state": {
       "margin": "0px 0px 0px 37px",
       "width": "600px"
      }
     },
     "0c511e794fc345ffac118c9419f0a769": {
      "model_module": "@jupyter-widgets/base",
      "model_module_version": "1.2.0",
      "model_name": "LayoutModel",
      "state": {
       "max_height": "500px",
       "max_width": "750px",
       "overflow_x": "hidden",
       "overflow_y": "scroll",
       "visibility": "visible",
       "width": "auto"
      }
     },
     "10d6a8c0dc304d8aa305c98ae27796ec": {
      "model_module": "@jupyter-widgets/controls",
      "model_module_version": "1.5.0",
      "model_name": "VBoxModel",
      "state": {
       "children": [
        "IPY_MODEL_735a5390a1764a8286d6d99bd74455f9",
        "IPY_MODEL_00fbd5d99f6f423ea55b1293b80b8123",
        "IPY_MODEL_c141830a362b41778590ca0a2afc4a07"
       ],
       "layout": "IPY_MODEL_b4efda0ff8d24ea6ba1baed450ee6cb6"
      }
     },
     "18961fc6623748c5be6b48256001276b": {
      "model_module": "@jupyter-widgets/base",
      "model_module_version": "1.2.0",
      "model_name": "LayoutModel",
      "state": {
       "max_width": "700px",
       "min_width": "700px"
      }
     },
     "1afb7a3a1709469d8cac686b381a824f": {
      "model_module": "@jupyter-widgets/base",
      "model_module_version": "1.2.0",
      "model_name": "LayoutModel",
      "state": {
       "grid_template_areas": "\n                                       \". . . . right \"\n                                        ",
       "grid_template_columns": "20% 20% 20% 20% 20%",
       "width": "100%"
      }
     },
     "1d913956285d4f5283ade4cf6d191498": {
      "model_module": "@jupyter-widgets/controls",
      "model_module_version": "1.5.0",
      "model_name": "DescriptionStyleModel",
      "state": {
       "description_width": ""
      }
     },
     "1e2b13a973ee43a4ae84a9a47bca2ea9": {
      "model_module": "@jupyter-widgets/controls",
      "model_module_version": "1.5.0",
      "model_name": "HTMLModel",
      "state": {
       "layout": "IPY_MODEL_f956aabd2cc64718a4eea310423a4f46",
       "style": "IPY_MODEL_bc583ae161684cf18f96ee9c714ffb04",
       "value": "job has successfully run"
      }
     },
     "2b5ed7abd8b34fd08d077b2498da40d3": {
      "model_module": "@jupyter-widgets/base",
      "model_module_version": "1.2.0",
      "model_name": "LayoutModel",
      "state": {
       "width": "70px"
      }
     },
     "3130581e7963434d9559944706eb466b": {
      "model_module": "@jupyter-widgets/controls",
      "model_module_version": "1.5.0",
      "model_name": "DescriptionStyleModel",
      "state": {
       "description_width": ""
      }
     },
     "378f80ed16d647c1a1ff95ba5e14dcde": {
      "model_module": "@jupyter-widgets/controls",
      "model_module_version": "1.5.0",
      "model_name": "HTMLModel",
      "state": {
       "layout": "IPY_MODEL_737cdd218809460ca98b5d447125e58c",
       "style": "IPY_MODEL_639e4fd8d2d646a99cebaf57c857d05e",
       "value": "<font style='color:#34BC6E'>DONE</font>"
      }
     },
     "3ee965a8e099433b95a200f882d97c9f": {
      "model_module": "@jupyter-widgets/controls",
      "model_module_version": "1.5.0",
      "model_name": "AccordionModel",
      "state": {
       "_dom_classes": [
        "job_widget"
       ],
       "_titles": {
        "0": "IBMQ Jobs"
       },
       "children": [
        "IPY_MODEL_10d6a8c0dc304d8aa305c98ae27796ec"
       ],
       "layout": "IPY_MODEL_0c511e794fc345ffac118c9419f0a769",
       "selected_index": null
      }
     },
     "4d088b3ee02f40bfbccf7412cef9d972": {
      "model_module": "@jupyter-widgets/controls",
      "model_module_version": "1.5.0",
      "model_name": "DescriptionStyleModel",
      "state": {
       "description_width": ""
      }
     },
     "51cecae2bffd47b8a0694ec319670bed": {
      "model_module": "@jupyter-widgets/base",
      "model_module_version": "1.2.0",
      "model_name": "LayoutModel",
      "state": {
       "width": "95px"
      }
     },
     "558bbd7cc56142bdaf3a6bd742f89e8f": {
      "model_module": "@jupyter-widgets/controls",
      "model_module_version": "1.5.0",
      "model_name": "ButtonModel",
      "state": {
       "button_style": "primary",
       "description": "Clear",
       "layout": "IPY_MODEL_77dc58db5867455e848b98785e35d122",
       "style": "IPY_MODEL_d093996ddbfe41d0ba363a1732f245ca"
      }
     },
     "59088c1812a14fcc827c65c5147b05ff": {
      "model_module": "@jupyter-widgets/base",
      "model_module_version": "1.2.0",
      "model_name": "LayoutModel",
      "state": {
       "width": "70px"
      }
     },
     "5ba1ad2cd93048f7825bb5922f4bd1e8": {
      "model_module": "@jupyter-widgets/controls",
      "model_module_version": "1.5.0",
      "model_name": "DescriptionStyleModel",
      "state": {
       "description_width": ""
      }
     },
     "625eab21148b4c0e8b4cb428178bacdd": {
      "model_module": "@jupyter-widgets/controls",
      "model_module_version": "1.5.0",
      "model_name": "DescriptionStyleModel",
      "state": {
       "description_width": ""
      }
     },
     "639e4fd8d2d646a99cebaf57c857d05e": {
      "model_module": "@jupyter-widgets/controls",
      "model_module_version": "1.5.0",
      "model_name": "DescriptionStyleModel",
      "state": {
       "description_width": ""
      }
     },
     "66d5bc9eb38644cfaf3bcf4a0f731bfc": {
      "model_module": "@jupyter-widgets/base",
      "model_module_version": "1.2.0",
      "model_name": "LayoutModel",
      "state": {
       "width": "190px"
      }
     },
     "69f86014b5554a0590bc45202919d6f0": {
      "model_module": "@jupyter-widgets/base",
      "model_module_version": "1.2.0",
      "model_name": "LayoutModel",
      "state": {
       "width": "145px"
      }
     },
     "6e7ae941ebd54b5b91e75998b200c8af": {
      "model_module": "@jupyter-widgets/base",
      "model_module_version": "1.2.0",
      "model_name": "LayoutModel",
      "state": {}
     },
     "727492928f8b4cbc9defdd2614c4cf99": {
      "model_module": "@jupyter-widgets/controls",
      "model_module_version": "1.5.0",
      "model_name": "HTMLModel",
      "state": {
       "layout": "IPY_MODEL_cef4e1b3d82140cba799fd3a954181ed",
       "style": "IPY_MODEL_4d088b3ee02f40bfbccf7412cef9d972",
       "value": "<h5>Job ID</h5>"
      }
     },
     "735a5390a1764a8286d6d99bd74455f9": {
      "model_module": "@jupyter-widgets/controls",
      "model_module_version": "1.5.0",
      "model_name": "GridBoxModel",
      "state": {
       "children": [
        "IPY_MODEL_558bbd7cc56142bdaf3a6bd742f89e8f"
       ],
       "layout": "IPY_MODEL_1afb7a3a1709469d8cac686b381a824f"
      }
     },
     "737cdd218809460ca98b5d447125e58c": {
      "model_module": "@jupyter-widgets/base",
      "model_module_version": "1.2.0",
      "model_name": "LayoutModel",
      "state": {
       "width": "95px"
      }
     },
     "77dc58db5867455e848b98785e35d122": {
      "model_module": "@jupyter-widgets/base",
      "model_module_version": "1.2.0",
      "model_name": "LayoutModel",
      "state": {
       "grid_area": "right",
       "padding": "0px 0px 0px 0px",
       "width": "70px"
      }
     },
     "7a30918aa2df4cfe97b047fcdee375dd": {
      "model_module": "@jupyter-widgets/controls",
      "model_module_version": "1.5.0",
      "model_name": "ButtonStyleModel",
      "state": {
       "button_color": "white"
      }
     },
     "7c965ba6d8204393b67a64edc5e09267": {
      "model_module": "@jupyter-widgets/base",
      "model_module_version": "1.2.0",
      "model_name": "LayoutModel",
      "state": {
       "margin": "0px 0px 10px 0px"
      }
     },
     "84d0519a72c143dbbd7ab66068811cf3": {
      "model_module": "@jupyter-widgets/controls",
      "model_module_version": "1.5.0",
      "model_name": "HTMLModel",
      "state": {
       "layout": "IPY_MODEL_51cecae2bffd47b8a0694ec319670bed",
       "style": "IPY_MODEL_625eab21148b4c0e8b4cb428178bacdd",
       "value": "<h5>Status</h5>"
      }
     },
     "914a7f0558ca4701b49324e170a89c49": {
      "model_module": "@jupyter-widgets/base",
      "model_module_version": "1.2.0",
      "model_name": "LayoutModel",
      "state": {
       "margin": "0px 5px 0px 0px",
       "width": "32px"
      }
     },
     "96c7d47b72bb4c8792b1d17348efb059": {
      "model_module": "@jupyter-widgets/controls",
      "model_module_version": "1.5.0",
      "model_name": "HTMLModel",
      "state": {
       "layout": "IPY_MODEL_59088c1812a14fcc827c65c5147b05ff",
       "style": "IPY_MODEL_1d913956285d4f5283ade4cf6d191498",
       "value": "-"
      }
     },
     "97d0c17dd599434f91b3845aa835405f": {
      "model_module": "@jupyter-widgets/controls",
      "model_module_version": "1.5.0",
      "model_name": "HTMLModel",
      "state": {
       "layout": "IPY_MODEL_69f86014b5554a0590bc45202919d6f0",
       "style": "IPY_MODEL_e0ebdc91a58845459e8b2de436997da3",
       "value": "ibmq_santiago"
      }
     },
     "9d73720c08fa43f6928f081ef7f91dbd": {
      "model_module": "@jupyter-widgets/controls",
      "model_module_version": "1.5.0",
      "model_name": "HTMLModel",
      "state": {
       "layout": "IPY_MODEL_66d5bc9eb38644cfaf3bcf4a0f731bfc",
       "style": "IPY_MODEL_5ba1ad2cd93048f7825bb5922f4bd1e8",
       "value": "626511da8b23151a9c4f9112"
      }
     },
     "a2da27235a5e49f6b4011a1a5a3a4022": {
      "model_module": "@jupyter-widgets/controls",
      "model_module_version": "1.5.0",
      "model_name": "HTMLModel",
      "state": {
       "layout": "IPY_MODEL_6e7ae941ebd54b5b91e75998b200c8af",
       "style": "IPY_MODEL_3130581e7963434d9559944706eb466b",
       "value": "<h5>Message</h5>"
      }
     },
     "af205484c8804a83bc143a37f9c2cb13": {
      "model_module": "@jupyter-widgets/controls",
      "model_module_version": "1.5.0",
      "model_name": "HTMLModel",
      "state": {
       "layout": "IPY_MODEL_2b5ed7abd8b34fd08d077b2498da40d3",
       "style": "IPY_MODEL_f77b0e2898df43498213f18d0b215147",
       "value": "<h5>Queue</h5>"
      }
     },
     "b4efda0ff8d24ea6ba1baed450ee6cb6": {
      "model_module": "@jupyter-widgets/base",
      "model_module_version": "1.2.0",
      "model_name": "LayoutModel",
      "state": {
       "max_width": "710px",
       "min_width": "710px"
      }
     },
     "b87b6f8ce994422587f4dffd3ca65481": {
      "model_module": "@jupyter-widgets/controls",
      "model_module_version": "1.5.0",
      "model_name": "ButtonModel",
      "state": {
       "icon": "close",
       "layout": "IPY_MODEL_914a7f0558ca4701b49324e170a89c49",
       "style": "IPY_MODEL_7a30918aa2df4cfe97b047fcdee375dd"
      }
     },
     "bc583ae161684cf18f96ee9c714ffb04": {
      "model_module": "@jupyter-widgets/controls",
      "model_module_version": "1.5.0",
      "model_name": "DescriptionStyleModel",
      "state": {
       "description_width": ""
      }
     },
     "c141830a362b41778590ca0a2afc4a07": {
      "model_module": "@jupyter-widgets/controls",
      "model_module_version": "1.5.0",
      "model_name": "HBoxModel",
      "state": {
       "children": [
        "IPY_MODEL_b87b6f8ce994422587f4dffd3ca65481",
        "IPY_MODEL_9d73720c08fa43f6928f081ef7f91dbd",
        "IPY_MODEL_97d0c17dd599434f91b3845aa835405f",
        "IPY_MODEL_378f80ed16d647c1a1ff95ba5e14dcde",
        "IPY_MODEL_96c7d47b72bb4c8792b1d17348efb059",
        "IPY_MODEL_1e2b13a973ee43a4ae84a9a47bca2ea9"
       ],
       "layout": "IPY_MODEL_18961fc6623748c5be6b48256001276b"
      }
     },
     "cef4e1b3d82140cba799fd3a954181ed": {
      "model_module": "@jupyter-widgets/base",
      "model_module_version": "1.2.0",
      "model_name": "LayoutModel",
      "state": {
       "width": "190px"
      }
     },
     "d093996ddbfe41d0ba363a1732f245ca": {
      "model_module": "@jupyter-widgets/controls",
      "model_module_version": "1.5.0",
      "model_name": "ButtonStyleModel",
      "state": {}
     },
     "e0ebdc91a58845459e8b2de436997da3": {
      "model_module": "@jupyter-widgets/controls",
      "model_module_version": "1.5.0",
      "model_name": "DescriptionStyleModel",
      "state": {
       "description_width": ""
      }
     },
     "ec36b07f1b5b42928a15e61b1fae647c": {
      "model_module": "@jupyter-widgets/controls",
      "model_module_version": "1.5.0",
      "model_name": "DescriptionStyleModel",
      "state": {
       "description_width": ""
      }
     },
     "f77b0e2898df43498213f18d0b215147": {
      "model_module": "@jupyter-widgets/controls",
      "model_module_version": "1.5.0",
      "model_name": "DescriptionStyleModel",
      "state": {
       "description_width": ""
      }
     },
     "f9160f069ff84343a7c89fa9a5e87cba": {
      "model_module": "@jupyter-widgets/controls",
      "model_module_version": "1.5.0",
      "model_name": "DescriptionStyleModel",
      "state": {
       "description_width": ""
      }
     },
     "f956aabd2cc64718a4eea310423a4f46": {
      "model_module": "@jupyter-widgets/base",
      "model_module_version": "1.2.0",
      "model_name": "LayoutModel",
      "state": {
       "overflow_x": "scroll"
      }
     },
     "fdf6debf3de444daafcbe0f2c951640e": {
      "model_module": "@jupyter-widgets/controls",
      "model_module_version": "1.5.0",
      "model_name": "HTMLModel",
      "state": {
       "layout": "IPY_MODEL_7c965ba6d8204393b67a64edc5e09267",
       "style": "IPY_MODEL_ec36b07f1b5b42928a15e61b1fae647c",
       "value": "<p style='font-family: IBM Plex Sans, Arial, Helvetica, sans-serif; font-size: 20px; font-weight: medium;'>Circuit Properties</p>"
      }
     },
     "fe398c48e171401f8ccff0b76c27fcb5": {
      "model_module": "@jupyter-widgets/controls",
      "model_module_version": "1.5.0",
      "model_name": "HTMLModel",
      "state": {
       "layout": "IPY_MODEL_099fefe3464c434c947579eebfb87ff2",
       "style": "IPY_MODEL_f9160f069ff84343a7c89fa9a5e87cba",
       "value": "<h5>Backend</h5>"
      }
     }
    },
    "version_major": 2,
    "version_minor": 0
   }
  }
 },
 "nbformat": 4,
 "nbformat_minor": 5
}
